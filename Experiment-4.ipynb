{
 "cells": [
  {
   "cell_type": "code",
   "execution_count": 7,
   "id": "7b4ae8cd-e56c-4321-97a6-5d4949e5712e",
   "metadata": {},
   "outputs": [
    {
     "name": "stdout",
     "output_type": "stream",
     "text": [
      "10    a\n",
      "11    i\n",
      "12    t\n",
      "13    a\n",
      "14    m\n",
      "15    c\n",
      "16    s\n",
      "17    m\n",
      "18    c\n",
      "19    s\n",
      "20    d\n",
      "dtype: object\n",
      "s\n"
     ]
    }
   ],
   "source": [
    "#4-a: Write a python program to implement Pandas Series with labels.\n",
    "\n",
    "# import pandas and numpy \n",
    "import pandas as pd\n",
    "import numpy as np\n",
    " \n",
    "# creating simple array\n",
    "data = np.array(['a','i','t','a','m','c', 's','m','c','s','d'])\n",
    "ser = pd.Series(data,index=[10,11,12,13,14,15,16,17,18,19,20])\n",
    "\n",
    "print(ser)\n",
    "    \n",
    "# accessing a element using index element\n",
    "print(ser[16])"
   ]
  },
  {
   "cell_type": "code",
   "execution_count": 8,
   "id": "9126f85c-7206-4dfe-8e22-b705742b77f6",
   "metadata": {},
   "outputs": [
    {
     "name": "stdout",
     "output_type": "stream",
     "text": [
      "A    10\n",
      "B    63\n",
      "D    32\n",
      "C    87\n",
      "dtype: int64\n"
     ]
    }
   ],
   "source": [
    "#4-b: a\n",
    "\n",
    "import pandas as pd\n",
    "# Creating dictionary\n",
    "dictionary = {'A':10, 'B':63, 'D':32, 'C':87}\n",
    "\n",
    "# Creating Series\n",
    "s = pd.Series(dictionary)\n",
    "print(s)"
   ]
  },
  {
   "cell_type": "code",
   "execution_count": 1,
   "id": "54b066db-e032-4fa4-ae4e-a1525cc27412",
   "metadata": {},
   "outputs": [
    {
     "name": "stdout",
     "output_type": "stream",
     "text": [
      "            0\n",
      "0        Java\n",
      "1      Python\n",
      "2           C\n",
      "3         C++\n",
      "4  JavaScript\n",
      "5       Swift\n",
      "6          Go\n",
      "      Name  Age\n",
      "0   Aditya   20\n",
      "1    Pavan   21\n",
      "2  Krishna   19\n",
      "3     John   18\n"
     ]
    }
   ],
   "source": [
    "#4-c: Creating a Pandas DataFrame.\n",
    "\n",
    "#Create a dataframe using List\n",
    "import pandas as pd  \n",
    "  \n",
    "# string values in the list   \n",
    "lst = ['Java', 'Python', 'C', 'C++','JavaScript', 'Swift', 'Go']  \n",
    "  \n",
    "# Calling DataFrame constructor on list  \n",
    "dframe = pd.DataFrame(lst)  \n",
    "print(dframe)  \n",
    "\n",
    "#Create Dataframe from dict of ndarray/lists\n",
    "import pandas as pd  \n",
    "data = {'Name': ['Aditya', 'Pavan', 'Krishna', 'John'], 'Age': [20, 21, 19, 18]}  \n",
    "  \n",
    "# Create DataFrame  \n",
    "df = pd.DataFrame(data)  \n",
    "  \n",
    "# Print the output.  \n",
    "print(df)  "
   ]
  },
  {
   "cell_type": "code",
   "execution_count": 11,
   "id": "2b5a3f00-f063-45ca-91dc-6fef6a0df228",
   "metadata": {},
   "outputs": [
    {
     "name": "stdout",
     "output_type": "stream",
     "text": [
      "The original series is:\n",
      "0   -0.230645\n",
      "1    0.546311\n",
      "2   -0.310645\n",
      "3   -0.514636\n",
      "dtype: float64\n",
      "\n",
      "\n",
      "The first two rows of the data series:\n",
      "0   -0.230645\n",
      "1    0.546311\n",
      "dtype: float64\n",
      "\n",
      "\n",
      "The last two rows of the data series:\n",
      "2   -0.310645\n",
      "3   -0.514636\n",
      "dtype: float64\n",
      "\n",
      "\n",
      "count    4.000000\n",
      "mean    -0.127404\n",
      "std      0.464786\n",
      "min     -0.514636\n",
      "25%     -0.361643\n",
      "50%     -0.270645\n",
      "75%     -0.036406\n",
      "max      0.546311\n",
      "dtype: float64\n",
      "\n",
      "\n",
      "                 Name                  Team      Number Position         Age  \\\n",
      "count             364                   364  364.000000      364  364.000000   \n",
      "unique            364                    30         NaN        5         NaN   \n",
      "top     Avery Bradley  New Orleans Pelicans         NaN       SG         NaN   \n",
      "freq                1                    16         NaN       87         NaN   \n",
      "mean              NaN                   NaN   16.829670      NaN   26.615385   \n",
      "std               NaN                   NaN   14.994162      NaN    4.233591   \n",
      "min               NaN                   NaN    0.000000      NaN   19.000000   \n",
      "20%               NaN                   NaN    4.000000      NaN   23.000000   \n",
      "40%               NaN                   NaN    9.000000      NaN   25.000000   \n",
      "50%               NaN                   NaN   12.000000      NaN   26.000000   \n",
      "60%               NaN                   NaN   17.000000      NaN   27.000000   \n",
      "80%               NaN                   NaN   30.000000      NaN   30.000000   \n",
      "max               NaN                   NaN   99.000000      NaN   40.000000   \n",
      "\n",
      "       Height      Weight   College        Salary  \n",
      "count     364  364.000000       364  3.640000e+02  \n",
      "unique     17         NaN       115           NaN  \n",
      "top       6-9         NaN  Kentucky           NaN  \n",
      "freq       49         NaN        22           NaN  \n",
      "mean      NaN  219.785714       NaN  4.620311e+06  \n",
      "std       NaN   24.793099       NaN  5.119716e+06  \n",
      "min       NaN  161.000000       NaN  5.572200e+04  \n",
      "20%       NaN  195.000000       NaN  9.472760e+05  \n",
      "40%       NaN  212.000000       NaN  1.638754e+06  \n",
      "50%       NaN  220.000000       NaN  2.515440e+06  \n",
      "60%       NaN  228.000000       NaN  3.429934e+06  \n",
      "80%       NaN  242.400000       NaN  7.838202e+06  \n",
      "max       NaN  279.000000       NaN  2.287500e+07  \n",
      "\n",
      "\n",
      "count               364\n",
      "unique              364\n",
      "top       Avery Bradley\n",
      "freq                  1\n",
      "Name: Name, dtype: object\n"
     ]
    }
   ],
   "source": [
    "#4-d: Write a program which makes use of the following Pandas methods i) describe() ii) head() iii) tail() iv) info()\n",
    "\n",
    "import pandas as pd\n",
    "import numpy as np\n",
    "import re  # importing regex module\n",
    "\n",
    "#Create a series with 4 random numbers\n",
    "s = pd.Series(np.random.randn(4))\n",
    "print(\"The original series is:\")\n",
    "print(s)\n",
    "\n",
    "print(\"\\n\")\n",
    "\n",
    "print(\"The first two rows of the data series:\")\n",
    "print(s.head(2))\n",
    "print(\"\\n\")\n",
    "\n",
    "print (\"The last two rows of the data series:\")\n",
    "print(s.tail(2))\n",
    "print(\"\\n\")\n",
    "\n",
    "print(s.describe());\n",
    "print(\"\\n\")\n",
    "\t\n",
    "# making data frame\n",
    "data = pd.read_csv(\"nba.csv\")\n",
    "\t\n",
    "# removing null values to avoid errors\n",
    "data.dropna(inplace = True)\n",
    "\n",
    "# percentile list\n",
    "perc =[.20, .40, .60, .80]\n",
    "\n",
    "# list of dtypes to include\n",
    "include =['object', 'float', 'int']\n",
    "\n",
    "# calling describe method\n",
    "desc = data.describe(percentiles = perc, include = include)\n",
    "\n",
    "# display\n",
    "print(desc)\n",
    "\n",
    "print(\"\\n\")\n",
    "\n",
    "# calling describe method\n",
    "desc = data[\"Name\"].describe()\n",
    "\n",
    "# display\n",
    "print(desc)"
   ]
  },
  {
   "cell_type": "code",
   "execution_count": 10,
   "id": "7d313fa0-963b-4f05-a683-a7eda9518066",
   "metadata": {},
   "outputs": [
    {
     "data": {
      "image/png": "[encoded data removed]",
      "text/plain": [
       "<Figure size 640x480 with 1 Axes>"
      ]
     },
     "metadata": {},
     "output_type": "display_data"
    }
   ],
   "source": [
    "import pandas as pd\n",
    "import matplotlib.pyplot as plt\n",
    "data = pd.read_csv(\"revenuefinal.csv\")\n",
    "data.plot()\n",
    "plt.show()"
   ]
  },
  {
   "cell_type": "code",
   "execution_count": 5,
   "id": "bf82ae13-29c9-4a9d-b431-a59cd8a58ab4",
   "metadata": {},
   "outputs": [
    {
     "name": "stdout",
     "output_type": "stream",
     "text": [
      "Following is Breadth First Traversal (starting from vertex 2)\n",
      "2 0 3 1 "
     ]
    }
   ],
   "source": [
    "# 11: Write a Program to implement Breadth First Search using Python\n",
    "from collections import defaultdict\n",
    "\n",
    "class Graph:\n",
    "\n",
    "\t# Constructor\n",
    "    def __init__(self):\n",
    "\n",
    "        self.graph = defaultdict(list)\n",
    "\n",
    "    def addEdge(self,u,v):\n",
    "        self.graph[u].append(v)\n",
    "\n",
    "    def BFS(self, s):\n",
    "        visited = [False] * (len(self.graph))\n",
    "        queue = []\n",
    "\n",
    "        queue.append(s)\n",
    "        visited[s] = True\n",
    "\n",
    "        while queue:\n",
    "            s = queue.pop(0)\n",
    "            print (s, end = \" \")\n",
    "\n",
    "            for i in self.graph[s]:\n",
    "                if visited[i] == False:\n",
    "                    queue.append(i)\n",
    "                    visited[i] = True\n",
    "\n",
    "# Create a graph given in the above diagram\n",
    "g = Graph()\n",
    "g.addEdge(0, 1)\n",
    "g.addEdge(0, 2)\n",
    "g.addEdge(1, 2)\n",
    "g.addEdge(2, 0)\n",
    "g.addEdge(2, 3)\n",
    "g.addEdge(3, 3)\n",
    "\n",
    "print (\"Following is Breadth First Traversal (starting from vertex 2)\")\n",
    "g.BFS(2)"
   ]
  }
 ],
 "metadata": {
  "kernelspec": {
   "display_name": "Python 3 (ipykernel)",
   "language": "python",
   "name": "python3"
  },
  "language_info": {
   "codemirror_mode": {
    "name": "ipython",
    "version": 3
   },
   "file_extension": ".py",
   "mimetype": "text/x-python",
   "name": "python",
   "nbconvert_exporter": "python",
   "pygments_lexer": "ipython3",
   "version": "3.11.5"
  }
 },
 "nbformat": 4,
 "nbformat_minor": 5
}

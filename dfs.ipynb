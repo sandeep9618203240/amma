{
 "cells": [
  {
   "cell_type": "code",
   "execution_count": 1,
   "id": "cbe20acd-1803-401b-b153-5fa58bbc2581",
   "metadata": {},
   "outputs": [
    {
     "name": "stdout",
     "output_type": "stream",
     "text": [
      "Following is Depth First Traversal\n",
      "0\n",
      "1\n",
      "2\n",
      "3\n"
     ]
    }
   ],
   "source": [
    "# 12: Write a Program to implement Depth First Search using Python\n",
    "from collections import defaultdict\n",
    "\n",
    "class Graph:\n",
    "\tdef __init__(self):\n",
    "\n",
    "\t\tself.graph = defaultdict(list)\n",
    "\n",
    "\n",
    "\tdef addEdge(self,u,v):\n",
    "\t\tself.graph[u].append(v)\n",
    "\n",
    "\n",
    "\tdef DFSUtil(self, v, visited):\n",
    "\t\tvisited[v]= True\n",
    "\t\tprint(v)\n",
    "\n",
    "\t\tfor i in self.graph[v]:\n",
    "\t\t\tif visited[i] == False:\n",
    "\t\t\t\tself.DFSUtil(i, visited)\n",
    "\n",
    "\n",
    "\tdef DFS(self):\n",
    "\t\tV = len(self.graph) \n",
    "\t\t\n",
    "\t\tvisited =[False]*(V)\n",
    "\n",
    "\t\tfor i in range(V):\n",
    "\t\t\tif visited[i] == False:\n",
    "\t\t\t\tself.DFSUtil(i, visited)\n",
    "\n",
    "g = Graph()\n",
    "g.addEdge(0, 1)\n",
    "g.addEdge(0, 2)\n",
    "g.addEdge(1, 2)\n",
    "g.addEdge(2, 0)\n",
    "g.addEdge(2, 3)\n",
    "g.addEdge(3, 3)\n",
    "\n",
    "print(\"Following is Depth First Traversal\")\n",
    "g.DFS()\n"
   ]
  },
  {
   "cell_type": "code",
   "execution_count": null,
   "id": "57a86b8f-6893-47e6-b738-f2ebdbe926b2",
   "metadata": {},
   "outputs": [],
   "source": []
  }
 ],
 "metadata": {
  "kernelspec": {
   "display_name": "Python 3 (ipykernel)",
   "language": "python",
   "name": "python3"
  },
  "language_info": {
   "codemirror_mode": {
    "name": "ipython",
    "version": 3
   },
   "file_extension": ".py",
   "mimetype": "text/x-python",
   "name": "python",
   "nbconvert_exporter": "python",
   "pygments_lexer": "ipython3",
   "version": "3.11.5"
  }
 },
 "nbformat": 4,
 "nbformat_minor": 5
}

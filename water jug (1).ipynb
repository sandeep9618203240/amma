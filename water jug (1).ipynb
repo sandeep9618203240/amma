{
 "cells": [
  {
   "cell_type": "code",
   "execution_count": 1,
   "id": "3c89725c-a566-49b0-93b1-4bf798b014de",
   "metadata": {},
   "outputs": [
    {
     "name": "stdout",
     "output_type": "stream",
     "text": [
      "steps\n",
      "0 0\n",
      "4 0\n",
      "4 3\n",
      "0 3\n",
      "3 0\n",
      "3 3\n",
      "4 2\n",
      "0 2\n"
     ]
    },
    {
     "data": {
      "text/plain": [
       "True"
      ]
     },
     "execution_count": 1,
     "metadata": {},
     "output_type": "execute_result"
    }
   ],
   "source": [
    "#water jug problem\n",
    "from collections import defaultdict\n",
    "jug1,jug2,aim=4,3,2\n",
    "visited=defaultdict(lambda:False)\n",
    "def waterjugsolver(amt1,amt2):\n",
    "    if(amt1==aim and amt2==0)or(amt2==aim and amt1==0):\n",
    "        print(amt1,amt2)\n",
    "        return True\n",
    "    if visited[(amt1,amt2)]==False:\n",
    "        print(amt1,amt2)\n",
    "        visited[(amt1,amt2)]=True\n",
    "        return(waterjugsolver(0,amt2)or waterjugsolver(amt1,0) or\n",
    "               waterjugsolver(jug1,amt2) or\n",
    "               waterjugsolver(amt1,jug2)or\n",
    "               waterjugsolver(amt1+min(amt2,(jug1-amt1)),amt2-min(amt2,(jug1-amt1)))or\n",
    "               waterjugsolver(amt1-min(amt1,(jug2-amt2)),\n",
    "                              amt2+min(amt1,(jug2-amt2))))\n",
    "    else:\n",
    "        return False\n",
    "print(\"steps\")\n",
    "waterjugsolver(0,0)\n",
    "    "
   ]
  },
  {
   "cell_type": "code",
   "execution_count": null,
   "id": "bf99acfa-2aed-4361-96c7-142d5f81c5fd",
   "metadata": {},
   "outputs": [],
   "source": []
  }
 ],
 "metadata": {
  "kernelspec": {
   "display_name": "Python 3 (ipykernel)",
   "language": "python",
   "name": "python3"
  },
  "language_info": {
   "codemirror_mode": {
    "name": "ipython",
    "version": 3
   },
   "file_extension": ".py",
   "mimetype": "text/x-python",
   "name": "python",
   "nbconvert_exporter": "python",
   "pygments_lexer": "ipython3",
   "version": "3.11.5"
  }
 },
 "nbformat": 4,
 "nbformat_minor": 5
}

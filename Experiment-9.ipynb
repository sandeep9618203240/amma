{
 "cells": [
  {
   "cell_type": "code",
   "execution_count": 4,
   "id": "6ddb9c15-bb82-4fa0-92de-8a2f9619a7e7",
   "metadata": {},
   "outputs": [
    {
     "name": "stdin",
     "output_type": "stream",
     "text": [
      "Please enter a positive number:\n",
      " 4\n"
     ]
    },
    {
     "name": "stdout",
     "output_type": "stream",
     "text": [
      "Square Root of 4 is 2.0\n",
      "Caught a ZeroDivisionError!\n",
      "Second element = 2\n",
      "Caught an IndexError!\n",
      "Error: cannot add an int and a str\n",
      "Caught a NameError!\n"
     ]
    }
   ],
   "source": [
    "#9-a: Write a python program to catch following exception: i) Value Error  ii) Index Error \n",
    "#iii) Name Error  iv)Type Error  v)Divideby Zero error \n",
    "\n",
    "#Value Error\n",
    "import math\n",
    "x = int(input('Please enter a positive number:\\n'))\n",
    "\n",
    "try:\n",
    "    print(f'Square Root of {x} is {math.sqrt(x)}')\n",
    "except ValueError as ve:\n",
    "    print(f'You entered {x}, which is not a positive number.')\n",
    "    \n",
    "    \n",
    "#Division by zero initialize the amount variable\n",
    "try:\n",
    "    marks = 10000\n",
    "    a = marks / 0\n",
    "    print(a)\n",
    "except ZeroDivisionError:\n",
    "    print(\"Caught a ZeroDivisionError!\")\n",
    "\n",
    "#index error\n",
    "a = [1, 2, 3]\n",
    "try:\n",
    "\tprint (\"Second element = %d\" %(a[1]))\n",
    "\tprint (\"Fourth element = %d\" %(a[3]))\n",
    "\n",
    "except IndexError:\n",
    "    print(\"Caught an IndexError!\")\n",
    "    \n",
    "    \n",
    "#Type Error\n",
    "x = 5\n",
    "y = \"hello\"\n",
    "try:\n",
    "\tz = x + y\n",
    "except TypeError:\n",
    "\tprint(\"Error: cannot add an int and a str\")\n",
    "try:\n",
    "    # Example causing NameError\n",
    "    print(undefined_variable)\n",
    "except NameError:\n",
    "    print(\"Caught a NameError!\")"
   ]
  },
  {
   "cell_type": "code",
   "execution_count": 5,
   "id": "0b38e946-dfb4-45ff-9d79-7eafd2869714",
   "metadata": {},
   "outputs": [
    {
     "name": "stdout",
     "output_type": "stream",
     "text": [
      "A New Exception occurred:  6\n"
     ]
    }
   ],
   "source": [
    "#9-b: Write a python program to create user defined exceptions.\n",
    "\n",
    "# A python program to create user-defined exception class MyError is derived from super class Exception\n",
    "\n",
    "class MyError(Exception):\n",
    "\n",
    "\t# Constructor or Initializer\n",
    "\tdef __init__(self, value):\n",
    "\t\tself.value = value\n",
    "\n",
    "\t# __str__ is to print() the value\n",
    "\tdef __str__(self):\n",
    "\t\treturn(repr(self.value))\n",
    "        \n",
    "try:\n",
    "\traise(MyError(3*2))\n",
    "\n",
    "# Value of Exception is stored in error\n",
    "except MyError as error:\n",
    "\tprint('A New Exception occurred: ', error.value)\n"
   ]
  },
  {
   "cell_type": "code",
   "execution_count": 6,
   "id": "a7c628aa-a399-4ae8-b304-9c3c8dd711e8",
   "metadata": {},
   "outputs": [
    {
     "name": "stdout",
     "output_type": "stream",
     "text": [
      "Yeah ! Your answer is : 1\n",
      "This is always executed\n",
      "Sorry ! You are dividing by zero \n",
      "This is always executed\n"
     ]
    }
   ],
   "source": [
    "#9-c:Write a python program to understand the use of else and finally block with try block.\n",
    "\n",
    "def divide(x, y):\n",
    "\ttry:\n",
    "\t\tresult = x // y\n",
    "\texcept ZeroDivisionError:\n",
    "\t\tprint(\"Sorry ! You are dividing by zero \")\n",
    "\telse:\n",
    "\t\tprint(\"Yeah ! Your answer is :\", result)\n",
    "\tfinally:\n",
    "\t\tprint('This is always executed')\n",
    "\n",
    "# Look at parameters and note the working of Program\n",
    "divide(3, 2)\n",
    "divide(3, 0)"
   ]
  },
  {
   "cell_type": "code",
   "execution_count": 7,
   "id": "ede6cb4d-c301-49bb-bbc0-6cde4a4e2126",
   "metadata": {},
   "outputs": [
    {
     "ename": "Exception",
     "evalue": "Sorry, no numbers below zero",
     "output_type": "error",
     "traceback": [
      "\u001b[1;31m---------------------------------------------------------------------------\u001b[0m",
      "\u001b[1;31mException\u001b[0m                                 Traceback (most recent call last)",
      "Cell \u001b[1;32mIn[7], line 6\u001b[0m\n\u001b[0;32m      3\u001b[0m x \u001b[38;5;241m=\u001b[39m \u001b[38;5;241m-\u001b[39m\u001b[38;5;241m1\u001b[39m\n\u001b[0;32m      5\u001b[0m \u001b[38;5;28;01mif\u001b[39;00m x \u001b[38;5;241m<\u001b[39m \u001b[38;5;241m0\u001b[39m:\n\u001b[1;32m----> 6\u001b[0m   \u001b[38;5;28;01mraise\u001b[39;00m \u001b[38;5;167;01mException\u001b[39;00m(\u001b[38;5;124m\"\u001b[39m\u001b[38;5;124mSorry, no numbers below zero\u001b[39m\u001b[38;5;124m\"\u001b[39m)\n",
      "\u001b[1;31mException\u001b[0m: Sorry, no numbers below zero"
     ]
    }
   ],
   "source": [
    "#9-d: Write a python program that uses raise and exception class to throw an exception.\n",
    "\n",
    "x = -1\n",
    "\n",
    "if x < 0:\n",
    "  raise Exception(\"Sorry, no numbers below zero\")\n",
    "\n"
   ]
  },
  {
   "cell_type": "code",
   "execution_count": null,
   "id": "13cb2acf-07d3-4b7e-b5a8-a3d07e89805d",
   "metadata": {},
   "outputs": [],
   "source": []
  }
 ],
 "metadata": {
  "kernelspec": {
   "display_name": "Python 3 (ipykernel)",
   "language": "python",
   "name": "python3"
  },
  "language_info": {
   "codemirror_mode": {
    "name": "ipython",
    "version": 3
   },
   "file_extension": ".py",
   "mimetype": "text/x-python",
   "name": "python",
   "nbconvert_exporter": "python",
   "pygments_lexer": "ipython3",
   "version": "3.11.5"
  }
 },
 "nbformat": 4,
 "nbformat_minor": 5
}

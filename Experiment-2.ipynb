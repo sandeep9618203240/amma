{
 "cells": [
  {
   "cell_type": "code",
   "execution_count": 1,
   "id": "7ddc4350",
   "metadata": {},
   "outputs": [
    {
     "name": "stdout",
     "output_type": "stream",
     "text": [
      "matrix\n",
      "[1 2 1]\n",
      "[3 4 7]\n",
      "[3 6 3]\n",
      "rank of the given matrix is : 2\n",
      "original array\n",
      "[[1 2]\n",
      " [3 4]]\n",
      "determinent of the said array:\n",
      "-2.0000000000000004\n",
      "5\n"
     ]
    }
   ],
   "source": [
    "import numpy as np \n",
    "my_matrix=np.array([[1,2,1],[3,4,7],[3,6,3]])\n",
    "print(\"matrix\")\n",
    "for row in my_matrix:\n",
    "    print(row)\n",
    "rank=np.linalg.matrix_rank(my_matrix)\n",
    "print(\"rank of the given matrix is :\",rank)\n",
    "#determent\n",
    "import numpy as np\n",
    "a=np.array([[1,2],[3,4]])\n",
    "print(\"original array\")\n",
    "print(a)\n",
    "result=np.linalg.det(a)\n",
    "print(\"determinent of the said array:\")\n",
    "print(result)\n",
    "import numpy as np\n",
    "mx=np.array([[1,1,1],[0,1,2],[1,5,3]])\n",
    "print(mx.trace())"
   ]
  },
  {
   "cell_type": "code",
   "execution_count": 2,
   "id": "8806084c",
   "metadata": {},
   "outputs": [
    {
     "name": "stdout",
     "output_type": "stream",
     "text": [
      "printing the orignal square array:\n",
      " [[1 2]\n",
      " [2 3]]\n",
      "printing the eigen values of the given square array:\n",
      " [-0.23606798  4.23606798]\n",
      "printing the right eigen vectors of the given square array:\n",
      " [[-0.85065081 -0.52573111]\n",
      " [ 0.52573111 -0.85065081]]\n"
     ]
    }
   ],
   "source": [
    "import numpy as np\n",
    "m=np.array([[1,2],[2,3]])\n",
    "print(\"printing the orignal square array:\\n\",m)\n",
    "w,v=np.linalg.eig(m)\n",
    "print(\"printing the eigen values of the given square array:\\n\",w)\n",
    "print(\"printing the right eigen vectors of the given square array:\\n\",v)"
   ]
  },
  {
   "cell_type": "code",
   "execution_count": 3,
   "id": "fac65a73",
   "metadata": {},
   "outputs": [
    {
     "name": "stdout",
     "output_type": "stream",
     "text": [
      "vectors:\n",
      "a= [2 6]\n",
      "\n",
      "b= [ 3 10]\n",
      "\n",
      " inner product of vectors a and b=\n",
      "66\n",
      "---------------------------\n",
      "\n",
      " outer product of vectors a and b= \n",
      "[[ 6 20]\n",
      " [18 60]]\n",
      "---------------------------\n",
      " cross product of vectors a and b=\n",
      "2\n"
     ]
    }
   ],
   "source": [
    "import numpy as np\n",
    "a=np.array([2,6])\n",
    "b=np.array([3,10])\n",
    "print(\"vectors:\")\n",
    "print(\"a=\",a)\n",
    "print(\"\\nb=\",b)\n",
    "print(\"\\n inner product of vectors a and b=\")\n",
    "print(np.inner(a,b))\n",
    "print(\"---------------------------\")\n",
    "print(\"\\n outer product of vectors a and b= \")\n",
    "print(np.outer(a,b))\n",
    "print(\"---------------------------\")\n",
    "print(\" cross product of vectors a and b=\")\n",
    "print(np.cross(a,b))"
   ]
  },
  {
   "cell_type": "code",
   "execution_count": 1,
   "id": "bd7dc2a2",
   "metadata": {},
   "outputs": [
    {
     "name": "stdout",
     "output_type": "stream",
     "text": [
      "Array1...\n",
      " [[1 2]\n",
      " [3 5]]\n",
      "\n",
      "Array2...\n",
      " [1 2]\n",
      "\n",
      "Dimensions of Array1...\n",
      " 2\n",
      "\n",
      "Dimensions of Array2...\n",
      " 1\n",
      "\n",
      "Shape of Array1...\n",
      " (2, 2)\n",
      "\n",
      "Shape of Array2...\n",
      " (2,)\n",
      "\n",
      "Result...\n",
      " [-1.  1.]\n"
     ]
    }
   ],
   "source": [
    "#2-d: Write a python program to solve a linear matrix equation, or system of linear scalar equations.\n",
    "\n",
    "import numpy as np\n",
    "\n",
    "# Creating two 2D numpy arrays using the array() method\n",
    "\n",
    "# Consider the system of equations x0 + 2 * x1 = 1 and 3 * x0 + 5 * x1 = 2\n",
    "arr1 = np.array([[1, 2], [3, 5]])\n",
    "arr2 = np.array([1, 2])\n",
    "\n",
    "# Display the arrays\n",
    "print(\"Array1...\\n\",arr1)\n",
    "print(\"\\nArray2...\\n\",arr2)\n",
    "\n",
    "# Check the Dimensions of both the arrays\n",
    "print(\"\\nDimensions of Array1...\\n\",arr1.ndim)\n",
    "print(\"\\nDimensions of Array2...\\n\",arr2.ndim)\n",
    "\n",
    "# Check the Shape of both the arrays\n",
    "print(\"\\nShape of Array1...\\n\",arr1.shape)\n",
    "print(\"\\nShape of Array2...\\n\",arr2.shape)\n",
    "\n",
    "# To solve a linear matrix equation, use the numpy.linalg.solve() method in Python.\n",
    "print(\"\\nResult...\\n\",np.linalg.solve(arr1, arr2))"
   ]
  },
  {
   "cell_type": "code",
   "execution_count": null,
   "id": "ea6a84d7-20db-45ed-8ea1-9d2787f321ae",
   "metadata": {},
   "outputs": [],
   "source": []
  }
 ],
 "metadata": {
  "kernelspec": {
   "display_name": "Python 3 (ipykernel)",
   "language": "python",
   "name": "python3"
  },
  "language_info": {
   "codemirror_mode": {
    "name": "ipython",
    "version": 3
   },
   "file_extension": ".py",
   "mimetype": "text/x-python",
   "name": "python",
   "nbconvert_exporter": "python",
   "pygments_lexer": "ipython3",
   "version": "3.11.5"
  }
 },
 "nbformat": 4,
 "nbformat_minor": 5
}

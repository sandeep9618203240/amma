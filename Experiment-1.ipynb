{
 "cells": [
  {
   "cell_type": "code",
   "execution_count": 2,
   "id": "36c5c5c1",
   "metadata": {},
   "outputs": [
    {
     "name": "stdout",
     "output_type": "stream",
     "text": [
      "<class 'list'>\n",
      "[1, 2, 3]\n"
     ]
    }
   ],
   "source": [
    "import numpy as np\n",
    "list1=[1,2,3]\n",
    "print(type(list1))\n",
    "print(list1)\n",
    "\n"
   ]
  },
  {
   "cell_type": "code",
   "execution_count": 9,
   "id": "4d3fcda4",
   "metadata": {},
   "outputs": [
    {
     "name": "stdout",
     "output_type": "stream",
     "text": [
      "<class 'list'>\n",
      "[1, 2, 3]\n",
      "<class 'numpy.ndarray'>\n",
      "[1 2 3]\n",
      "<class 'tuple'>\n",
      "(1, 2, 3)\n",
      "[1 2 3]\n",
      "<class 'numpy.ndarray'>\n",
      "[[1 2 3]\n",
      " [1 2 3]\n",
      " [1 2 3]]\n"
     ]
    }
   ],
   "source": [
    "import numpy as np\n",
    "list1=[1,2,3]\n",
    "print(type(list1))\n",
    "print(list1)\n",
    "#conversion\n",
    "array1= np.array(list1)\n",
    "print(type(array1))\n",
    "print(array1)\n",
    "tuple1=((1,2,3))\n",
    "print(type(tuple1))\n",
    "print(tuple1)\n",
    "#conversion\n",
    "array2=np.array(tuple1)\n",
    "print(array2)\n",
    "array3=np.array([tuple1,list1,array2])\n",
    "print(type(array3))\n",
    "print(array3)\n"
   ]
  },
  {
   "cell_type": "code",
   "execution_count": 11,
   "id": "d3054e48",
   "metadata": {},
   "outputs": [
    {
     "name": "stdout",
     "output_type": "stream",
     "text": [
      "[[ 2  5]\n",
      " [ 8 11]]\n",
      "[1 3 6]\n",
      "[ 80 100]\n",
      "[[ 5  5]\n",
      " [16  4]]\n"
     ]
    }
   ],
   "source": [
    "import numpy as np\n",
    "a=np.array([[[1,2,3],[4,5,6]],[[7,8,9],[10,11,12]]])\n",
    "print(a[...,1])\n",
    "import numpy as np\n",
    "a=np.array([[1,2],[3,4],[5,6]])\n",
    "print(a[[0,1,2],[0,0,1]])\n",
    "import numpy as np\n",
    "a=np.array([10,40,80,50,100])\n",
    "print(a[a>50])\n",
    "import numpy as np\n",
    "b=np.array([[5,5],[4,5],[16,4]])\n",
    "sumrow=b.sum(-1)\n",
    "print(b[sumrow%10==0])"
   ]
  },
  {
   "cell_type": "code",
   "execution_count": 19,
   "id": "e7acfbf8",
   "metadata": {},
   "outputs": [
    {
     "name": "stdout",
     "output_type": "stream",
     "text": [
      "maximum elements in the array is: 8\n",
      "minimum elements in the array is: 1\n",
      "[10, 21, 32, 43, 54]\n"
     ]
    }
   ],
   "source": [
    "import numpy \n",
    "arr=numpy.array([1,5,4,8,3,7])\n",
    "max_element=numpy.max(arr)\n",
    "min_element=numpy.min(arr)\n",
    "print('maximum elements in the array is:',max_element)\n",
    "print('minimum elements in the array is:',min_element)\n",
    "list=[10,20,30,40,50]\n",
    "new_list=[]\n",
    "j=0\n",
    "for j in range(0,len(list)):\n",
    "    j+=list[j]\n",
    "    new_list.append(j)\n",
    "print(new_list)"
   ]
  },
  {
   "cell_type": "code",
   "execution_count": 20,
   "id": "57b12bb3",
   "metadata": {},
   "outputs": [
    {
     "name": "stdout",
     "output_type": "stream",
     "text": [
      "dimension of the given ndarray= 3\n",
      "shape of the given ndarray= (2, 2, 3)\n",
      "datatype of given ndarray= int32\n",
      "size of the given ndarray= 12\n",
      "size of each element in ndarray= 4\n"
     ]
    }
   ],
   "source": [
    "import numpy as np\n",
    "a=np.array([[[1,2,3],[4,5,6]],[[7,8,9],[10,11,12]]])\n",
    "print(\"dimension of the given ndarray=\",a.ndim)\n",
    "print(\"shape of the given ndarray=\",a.shape)\n",
    "print(\"datatype of given ndarray=\",a.dtype)\n",
    "print(\"size of the given ndarray=\",a.size)\n",
    "print(\"size of each element in ndarray=\",a.itemsize)\n"
   ]
  },
  {
   "cell_type": "code",
   "execution_count": null,
   "id": "684b6809",
   "metadata": {},
   "outputs": [],
   "source": []
  }
 ],
 "metadata": {
  "kernelspec": {
   "display_name": "Python 3 (ipykernel)",
   "language": "python",
   "name": "python3"
  },
  "language_info": {
   "codemirror_mode": {
    "name": "ipython",
    "version": 3
   },
   "file_extension": ".py",
   "mimetype": "text/x-python",
   "name": "python",
   "nbconvert_exporter": "python",
   "pygments_lexer": "ipython3",
   "version": "3.11.5"
  }
 },
 "nbformat": 4,
 "nbformat_minor": 5
}

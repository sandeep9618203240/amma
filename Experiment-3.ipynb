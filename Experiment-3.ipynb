{
 "cells": [
  {
   "cell_type": "code",
   "execution_count": 24,
   "id": "3a36fbdb-6332-4cc0-83ec-0741f4d99e0b",
   "metadata": {},
   "outputs": [],
   "source": [
    "#3-a:create a white image using numpy\n",
    "\n",
    "#import required libraries\n",
    "from PIL import Image\n",
    "import numpy as np\n",
    "\n",
    "#create a white image\n",
    "a=np.full((512,256,3),255,dtype = np.uint8)\n",
    "Image=Image.fromarray(a,\"RGB\")\n",
    "Image.save(\"white.png\",\"PNG\")\n",
    "Image.show()"
   ]
  },
  {
   "cell_type": "code",
   "execution_count": 17,
   "id": "df0873a7-e186-4219-b8fc-99376800e370",
   "metadata": {},
   "outputs": [
    {
     "name": "stdout",
     "output_type": "stream",
     "text": [
      "<class 'numpy.ndarray'>\n",
      "(200, 400, 3)\n"
     ]
    }
   ],
   "source": [
    "#3-b: Convert images to NumPy array\n",
    "\n",
    "# Converting an image into NumPy Array\n",
    "\n",
    "# Import the necessary libraries\n",
    "from PIL import Image\n",
    "from numpy import asarray\n",
    "\n",
    "# load the image and convert into numpy array\n",
    "img = Image.open('Sample.png')\n",
    "\n",
    "# asarray() class is used to convert PIL images into NumPy arrays\n",
    "numpydata = asarray(img)\n",
    "\n",
    "# <class 'numpy.ndarray'>\n",
    "print(type(numpydata))\n",
    "\n",
    "# shape\n",
    "print(numpydata.shape)\n"
   ]
  },
  {
   "cell_type": "code",
   "execution_count": 8,
   "id": "fdb2f78b-895d-4225-bcce-a6a1d1b459ae",
   "metadata": {},
   "outputs": [],
   "source": [
    "# 3-b2: Convert a NumPy array to an image\n",
    "\n",
    "from PIL import Image\n",
    "import numpy as np\n",
    "w,h=250,250\n",
    "t=(h,w,3)\n",
    "A=np.zeros(t,dtype=np.uint8)\n",
    "for i in range(h):\n",
    "    for j in range(w):\n",
    "        A[i,j]=[i%256,j%256,(i+j)%256]\n",
    "i=Image.fromarray(A,\"RGB\")\n",
    "i.show()"
   ]
  },
  {
   "cell_type": "code",
   "execution_count": 1,
   "id": "99d0c7fd-be9d-4a5e-bb4c-61a0a9362490",
   "metadata": {},
   "outputs": [
    {
     "name": "stdout",
     "output_type": "stream",
     "text": [
      "Along first axis : \n",
      " [[10  1]\n",
      " [12 15]]\n",
      "\n",
      "Along first axis : \n",
      " [[10 15]\n",
      " [ 1 12]]\n",
      "\n",
      "Along none axis : \n",
      " [ 1 10 12 15]\n",
      "Input ARRAY : \n",
      " [[ 0  1  2  3]\n",
      " [ 4  5  6  7]\n",
      " [ 8  9 10 11]]\n",
      "\n",
      "Max element :  11\n",
      "('\\nIndices of Max element : ', array([2, 2, 2, 2], dtype=int64))\n",
      "('\\nIndices of Max element : ', array([3, 3, 3], dtype=int64))\n",
      "Number of nonzero values is : 5\n",
      "Number of nonzero values is : 4\n"
     ]
    }
   ],
   "source": [
    "#3-c: Perform Sorting, Searching and Counting using Numpy methods.\n",
    "\n",
    "# importing libraries\n",
    "import numpy as np\n",
    " \n",
    "# sort along the first axis\n",
    "a = np.array([[12, 15], [10, 1]])\n",
    "arr1 = np.sort(a, axis = 0)        \n",
    "print (\"Along first axis : \\n\", arr1)        \n",
    " \n",
    "# sort along the last axis\n",
    "a = np.array([[10, 15], [12, 1]])\n",
    "arr2 = np.sort(a, axis = -1)        \n",
    "print (\"\\nAlong first axis : \\n\", arr2)\n",
    " \n",
    "a = np.array([[12, 15], [10, 1]])\n",
    "arr1 = np.sort(a, axis = None)        \n",
    "print (\"\\nAlong none axis : \\n\", arr1)\n",
    "\n",
    "\n",
    "#Searching\n",
    "import numpy as np\n",
    "array = np.arange(12).reshape(3, 4)\n",
    "print(\"Input ARRAY : \\n\", array)\n",
    " \n",
    "# No axis mentioned, so works on entire array\n",
    "print(\"\\nMax element : \", np.argmax(array))\n",
    " \n",
    "# returning Indices of the max element as per the indices\n",
    "print((\"\\nIndices of Max element : \", np.argmax(array, axis=0)))\n",
    "print((\"\\nIndices of Max element : \", np.argmax(array, axis=1)))\n",
    "\n",
    "\n",
    "#Counting\n",
    "import numpy as np\n",
    "  \n",
    "# Counting a number of non-zero values\n",
    "a = np.count_nonzero([[0,1,7,0,0],[3,0,0,2,19]])\n",
    "b = np.count_nonzero(([[0,1,7,0,0],[3,0,0,0,19]]))\n",
    " \n",
    "print(\"Number of nonzero values is :\",a)\n",
    "print(\"Number of nonzero values is :\",b)"
   ]
  },
  {
   "cell_type": "code",
   "execution_count": 9,
   "id": "523473af-6df5-4f3d-a93c-477e8c244ee1",
   "metadata": {},
   "outputs": [
    {
     "name": "stdout",
     "output_type": "stream",
     "text": [
      "[[ 1  2  3]\n",
      " [ 4  5  6]\n",
      " [ 7  8  9]\n",
      " [10 11 12]]\n",
      "\n",
      "\n",
      "[[[ 1  2  3]\n",
      "  [ 4  5  6]]\n",
      "\n",
      " [[ 7  8  9]\n",
      "  [10 11 12]]]\n",
      "\n",
      "\n",
      "[ 1  2  3  4  5  6  7  8  9 10 11 12]\n"
     ]
    }
   ],
   "source": [
    "# 3-d: Write a program to demonstrate the use of the reshape() method.\n",
    "\n",
    "import numpy as np\n",
    "arr = np.array([1, 2, 3, 4, 5, 6, 7, 8, 9, 10, 11, 12])\n",
    "newarr = arr.reshape(4, 3)\n",
    "print(newarr)\n",
    "\n",
    "#Unknown Dimension\n",
    "newarr = arr.reshape(2, 2, -1)\n",
    "print(\"\\n\")\n",
    "print(newarr)\n",
    "\n",
    "#Flattening the arrays\n",
    "newarr = arr.reshape(-1)\n",
    "print(\"\\n\")\n",
    "print(newarr)"
   ]
  },
  {
   "cell_type": "code",
   "execution_count": 1,
   "id": "9639827d-7562-48bf-baac-2755b1ba454f",
   "metadata": {},
   "outputs": [
    {
     "name": "stdout",
     "output_type": "stream",
     "text": [
      "steps\n",
      "0 0\n",
      "4 0\n",
      "4 3\n",
      "0 3\n",
      "3 0\n",
      "3 3\n",
      "4 2\n",
      "0 2\n"
     ]
    },
    {
     "data": {
      "text/plain": [
       "True"
      ]
     },
     "execution_count": 1,
     "metadata": {},
     "output_type": "execute_result"
    }
   ],
   "source": [
    "#water jug problem\n",
    "from collections import defaultdict\n",
    "jug1,jug2,aim=4,3,2\n",
    "visited=defaultdict(lambda:False)\n",
    "def waterjugsolver(amt1,amt2):\n",
    "    if(amt1==aim and amt2==0)or(amt2==aim and amt1==0):\n",
    "        print(amt1,amt2)\n",
    "        return True\n",
    "    if visited[(amt1,amt2)]==False:\n",
    "        print(amt1,amt2)\n",
    "        visited[(amt1,amt2)]=True\n",
    "        return(waterjugsolver(0,amt2)or waterjugsolver(amt1,0) or\n",
    "               waterjugsolver(jug1,amt2) or\n",
    "               waterjugsolver(amt1,jug2)or\n",
    "               waterjugsolver(amt1+min(amt2,(jug1-amt1)),amt2-min(amt2,(jug1-amt1)))or\n",
    "               waterjugsolver(amt1-min(amt1,(jug2-amt2)),\n",
    "                              amt2+min(amt1,(jug2-amt2))))\n",
    "    else:\n",
    "        return False\n",
    "print(\"steps\")\n",
    "waterjugsolver(0,0)\n",
    "    "
   ]
  },
  {
   "cell_type": "code",
   "execution_count": null,
   "id": "b937882f-0d49-45c3-a508-ab279ab4dd49",
   "metadata": {},
   "outputs": [],
   "source": [
    "import collections from defaultdict:\n",
    "jug1,jug2,aim=4,3,2\n",
    "visited=defaultdict(lambda:False)\n",
    "def waterjugsolver(amt1,amt2):\n",
    "    if((amt1==aim and amt2==0)or(amt2==aim and amt1==0):\n",
    "        print(amt1,amt2)\n",
    "        return true\n",
    "    if vi\n",
    "\n"
   ]
  }
 ],
 "metadata": {
  "kernelspec": {
   "display_name": "Python 3 (ipykernel)",
   "language": "python",
   "name": "python3"
  },
  "language_info": {
   "codemirror_mode": {
    "name": "ipython",
    "version": 3
   },
   "file_extension": ".py",
   "mimetype": "text/x-python",
   "name": "python",
   "nbconvert_exporter": "python",
   "pygments_lexer": "ipython3",
   "version": "3.11.5"
  }
 },
 "nbformat": 4,
 "nbformat_minor": 5
}
